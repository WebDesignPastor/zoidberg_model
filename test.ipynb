{
 "cells": [
  {
   "cell_type": "code",
   "execution_count": null,
   "id": "initial_id",
   "metadata": {
    "collapsed": true
   },
   "outputs": [],
   "source": [
    "import torch\n",
    "from torchvision import transforms\n",
    "from torchvision.datasets import ImageFolder\n",
    "from torch.utils.data import DataLoader, SubsetRandomSampler\n",
    "from tqdm import tqdm\n",
    "import sys\n",
    "\n",
    "from network import CNN"
   ]
  },
  {
   "metadata": {},
   "cell_type": "code",
   "outputs": [],
   "execution_count": null,
   "source": [
    "model_name = 'model.pth'\n",
    "if len(sys.argv) > 1:\n",
    "    model_name = sys.argv[1]\n",
    "\n",
    "# Define data transforms\n",
    "transform = transforms.Compose([\n",
    "    transforms.Resize((224)), # resize doc: If size is an int, smaller edge of the image will be matched to this number.\n",
    "    transforms.CenterCrop((224, 224)),\n",
    "    transforms.ToTensor(),\n",
    "    transforms.Normalize(mean=[0.485, 0.456, 0.406], std=[0.229, 0.224, 0.225])\n",
    "])\n",
    "\n",
    "# Load datasets using ImageFolder\n",
    "test_dataset = ImageFolder(root='datasets/test', transform=transform)\n",
    "\n",
    "# Define the number of samples you want to use\n",
    "subset_size = 624\n",
    "\n",
    "# Create a random subset of indices\n",
    "subset_indices = torch.randperm(len(test_dataset))[:subset_size]\n",
    "\n",
    "# Create a DataLoader using SubsetRandomSampler\n",
    "test_loader = DataLoader(test_dataset, batch_size=64, sampler=SubsetRandomSampler(subset_indices))\n",
    "\n",
    "# Print the number of samples in each dataset and each class\n",
    "print('Dataset\\t', 'Test\\t', test_dataset.classes[0], '', test_dataset.classes[1], '', test_dataset.classes[2])\n",
    "print('Total:\\t', len(test_dataset), '\\t', test_dataset.targets.count(0), '\\t', test_dataset.targets.count(1), '\\t', test_dataset.targets.count(2), '\\n')\n",
    "\n",
    "# Define the device\n",
    "device = torch.device('cuda' if torch.cuda.is_available() else 'cpu')\n",
    "print('Device:', device, '\\n')\n",
    "\n",
    "# Create an instance of the model\n",
    "num_classes = len(test_dataset.classes)\n",
    "model = CNN(num_classes=num_classes).to(device)\n",
    "\n",
    "print('Loading the model', model_name + '...')\n",
    "model.load_state_dict(torch.load(model_name))\n",
    "model.eval()\n",
    "\n",
    "# Test the model\n",
    "correct = 0\n",
    "total = 0\n",
    "\n",
    "progress_bar = tqdm(total=len(test_loader), desc='Testing', position=0, leave=True)\n",
    "\n",
    "with torch.no_grad():\n",
    "    for inputs, labels in test_loader:\n",
    "        logits = model.forward(inputs)\n",
    "        _, predicted = torch.max(logits, 1)\n",
    "        total += labels.size(0)\n",
    "        correct += (predicted == labels).sum().item()\n",
    "\n",
    "        progress_bar.update(1)\n",
    "\n",
    "progress_bar.close()\n",
    "\n",
    "print('Accuracy of the network on the test images: %d %%' % (100 * correct / total))"
   ],
   "id": "7bd32ad75a4f6b67"
  }
 ],
 "metadata": {
  "kernelspec": {
   "display_name": "Python 3",
   "language": "python",
   "name": "python3"
  },
  "language_info": {
   "codemirror_mode": {
    "name": "ipython",
    "version": 2
   },
   "file_extension": ".py",
   "mimetype": "text/x-python",
   "name": "python",
   "nbconvert_exporter": "python",
   "pygments_lexer": "ipython2",
   "version": "2.7.6"
  }
 },
 "nbformat": 4,
 "nbformat_minor": 5
}
