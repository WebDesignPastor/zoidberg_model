{
 "cells": [
  {
   "cell_type": "code",
   "metadata": {
    "jupyter": {
     "is_executing": true
    }
   },
   "source": [
    "import torch\n",
    "from torchvision import transforms\n",
    "from torchvision.datasets import ImageFolder\n",
    "from torch.utils.data import DataLoader, SubsetRandomSampler\n",
    "from tqdm import tqdm\n",
    "import sys\n",
    "\n",
    "from network import CNN"
   ],
   "outputs": [],
   "execution_count": null
  },
  {
   "metadata": {
    "jupyter": {
     "is_executing": true
    }
   },
   "cell_type": "code",
   "source": [
    "model_name = 'model.pth'\n",
    "if len(sys.argv) > 1:\n",
    "    model_name = sys.argv[1]\n",
    "\n",
    "transform = transforms.Compose([\n",
    "     transforms.Resize((224)), # resize doc: If size is an int, smaller edge of the image will be matched to this number.\n",
    "    transforms.CenterCrop((224, 224)),\n",
    "    transforms.ToTensor(),\n",
    "    transforms.Normalize(mean=[0.485, 0.456, 0.406], std=[0.229, 0.224, 0.225])\n",
    "])\n",
    "\n",
    "# Load datasets using ImageFolder\n",
    "train_dataset = ImageFolder(root='datasets/train', transform=transform)\n",
    "\n",
    "# Define the number of samples you want to use\n",
    "subset_size = 5216\n",
    "\n",
    "# Create a random subset of indices\n",
    "subset_indices = torch.randperm(len(train_dataset))[:subset_size]\n",
    "\n",
    "# Create a DataLoader using SubsetRandomSampler\n",
    "train_loader = DataLoader(train_dataset, batch_size=64, sampler=SubsetRandomSampler(subset_indices))\n",
    "\n",
    "# Compute class counts using torch.bincount()\n",
    "class_counts = torch.bincount(torch.tensor(train_dataset.targets)[subset_indices], minlength=len(train_dataset.classes))\n",
    "\n",
    "# Print the number of samples in each dataset and each class\n",
    "print('Dataset\\t', 'Train\\t', train_dataset.classes[0], '', train_dataset.classes[1], '', train_dataset.classes[2])\n",
    "print('Total:\\t', len(train_dataset), '\\t', train_dataset.targets.count(0), '\\t', train_dataset.targets.count(1), '\\t', train_dataset.targets.count(2))\n",
    "print('Subset:\\t', len(subset_indices), '\\t', class_counts[0].item(), '\\t', class_counts[1].item(), '\\t', class_counts[2].item(), '\\n')\n",
    "\n",
    "# Define the device\n",
    "device = torch.device('cuda' if torch.cuda.is_available() else 'cpu')\n",
    "print('Device:', device, '\\n')\n",
    "\n",
    "# Create an instance of the model\n",
    "num_classes = len(train_dataset.classes)\n",
    "model = CNN(num_classes=num_classes).to(device)\n",
    "\n",
    "# Define the loss function and optimizer\n",
    "criterion = torch.nn.CrossEntropyLoss()\n",
    "optimizer = torch.optim.Adam(model.parameters(), lr=0.001)\n",
    "\n",
    "# Training loop\n",
    "num_epochs = 20\n",
    "train_loss = []\n",
    "accuracy_total_train = []\n",
    "\n",
    "for epoch in range(num_epochs):\n",
    "    model.train()\n",
    "    running_loss = 0.0\n",
    "    progress_bar = tqdm(total=len(train_loader), desc='Epoch {}/{}'.format(epoch+1, num_epochs), position=0, leave=True)\n",
    "\n",
    "    for inputs, labels in train_loader:\n",
    "        optimizer.zero_grad()  # Zero the parameter gradients\n",
    "        outputs = model(inputs)  # Forward pass\n",
    "        loss = criterion(outputs, labels)  # Compute the loss\n",
    "        loss.backward()  # Backward pass\n",
    "        optimizer.step()  # Update the weights\n",
    "        running_loss += loss.item() * inputs.size(0)\n",
    "\n",
    "        # Calculate the accuracy\n",
    "        outputs = torch.nn.functional.softmax(outputs, dim=1)\n",
    "        _, preds = torch.max(outputs, 1)\n",
    "        accuracy_total_train.append(torch.sum(preds == labels.data).item() / float(inputs.size(0)))\n",
    "\n",
    "        progress_bar.update(1)\n",
    "\n",
    "    epoch_loss = running_loss / len(train_dataset)\n",
    "    progress_bar.close()\n",
    "    print('Loss: {:.4f}'.format(epoch_loss),\n",
    "          'Accuracy: {:.4f}'.format(sum(accuracy_total_train) / len(accuracy_total_train)))\n",
    "\n",
    "\n",
    "print('Finished Training')\n",
    "\n",
    "print('Saving the model...')\n",
    "torch.save(model.state_dict(), model_name)\n",
    "print('Model saved as', model_name)"
   ],
   "outputs": [],
   "execution_count": null
  },
  {
   "metadata": {
    "ExecuteTime": {
     "end_time": "2024-05-27T11:12:36.212238Z",
     "start_time": "2024-05-27T11:12:36.208193Z"
    }
   },
   "cell_type": "code",
   "source": "",
   "outputs": [],
   "execution_count": null
  }
 ],
 "metadata": {
  "kernelspec": {
   "display_name": "venv",
   "language": "python",
   "name": "python3"
  },
  "language_info": {
   "name": "python",
   "version": "3.12.3"
  }
 },
 "nbformat": 4,
 "nbformat_minor": 2
}
